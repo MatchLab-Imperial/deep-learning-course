{
  "nbformat": 4,
  "nbformat_minor": 0,
  "metadata": {
    "colab": {
      "provenance": []
    },
    "kernelspec": {
      "name": "python3",
      "display_name": "Python 3"
    },
    "language_info": {
      "name": "python"
    }
  },
  "cells": [
    {
      "cell_type": "markdown",
      "source": [
        "# **Starting with Pytorch**\n",
        "\n",
        "PyTorch is an open-source deep learning framework developed by Facebook's AI Research lab. It provides a flexible and dynamic approach to building neural networks, making it a favorite among researchers and developers alike. PyTorch's clear and straightforward API makes it accessible for beginners, while its depth and versatility cater to advanced use cases in cutting-edge AI research."
      ],
      "metadata": {
        "id": "biIoJqCey-Hy"
      }
    },
    {
      "cell_type": "markdown",
      "source": [
        "## Importing Libraries and Modules\n",
        "\n",
        "Google Colab already has everything you need installed. We highly recommend to use Colab for these tutorials, however, if you want to use your own environment, you will need to set up a Python ecosystem and install Pytorch on it.\n",
        "\n",
        "You can find support for your own platforms and versiosn from the [Pytorch website](https://pytorch.org/get-started/locally/)."
      ],
      "metadata": {
        "id": "YC-7BDIT0JRF"
      }
    },
    {
      "cell_type": "markdown",
      "source": [
        "Let's start with an easy example. First of all, we will import NumPy and define the seed for the pseudorandom number generator. Specifying the seed is a common practice because different initializations might lead to varying results."
      ],
      "metadata": {
        "id": "rM2pVRWp0p6t"
      }
    },
    {
      "cell_type": "code",
      "metadata": {
        "id": "VTilKf6uRhML"
      },
      "source": [
        "import numpy as np\n",
        "np.random.seed(1234)  # for reproducibility"
      ],
      "execution_count": null,
      "outputs": []
    },
    {
      "cell_type": "markdown",
      "source": [
        "Now we are ready to import some of the Pytorch's modules.\n",
        "\n",
        "First, we will import the Sequential module from Pytorch. A Sequential module is a stack of neural network layers. We will need it for creating our first feed-forward neural network."
      ],
      "metadata": {
        "id": "isckUfdU08F7"
      }
    },
    {
      "cell_type": "code",
      "source": [
        "from torch.nn import Sequential"
      ],
      "metadata": {
        "id": "CcfZb0901BcD"
      },
      "execution_count": null,
      "outputs": []
    },
    {
      "cell_type": "markdown",
      "source": [
        "PyTorch's framework provides dynamic computation graphs and native support for GPU acceleration. In this tutorial, we will use PyTorch for building and training our neural networks. Similar to NumPy, we fix PyTorch’s pseudorandom number generators to ensure reproducibility."
      ],
      "metadata": {
        "id": "7ff-pK241mSZ"
      }
    },
    {
      "cell_type": "code",
      "source": [
        "import torch\n",
        "torch.manual_seed(123)"
      ],
      "metadata": {
        "colab": {
          "base_uri": "https://localhost:8080/"
        },
        "id": "FtgfTm6N1q3f",
        "outputId": "de4bcfee-004a-4658-8e6d-363da86c0c52"
      },
      "execution_count": null,
      "outputs": [
        {
          "output_type": "execute_result",
          "data": {
            "text/plain": [
              "<torch._C.Generator at 0x793af8552890>"
            ]
          },
          "metadata": {},
          "execution_count": 3
        }
      ]
    },
    {
      "cell_type": "markdown",
      "source": [
        "Next we look at two of the core layers used to build a network on Pytorch: [Linear](https://docs.pytorch.org/docs/stable/generated/torch.nn.Linear.html#torch.nn.Linear) and Activations such as [ReLU](https://docs.pytorch.org/docs/stable/generated/torch.nn.ReLU.html#torch.nn.ReLU) or [Softmax](https://docs.pytorch.org/docs/stable/generated/torch.nn.Softmax.html#torch.nn.Softmax). In short, the `Linear` defines a fully-connected network where all the neurons are connected to all of the elements of the input data, and the `Activations` define a non-linear function applied to the network. We will explain more about those layers in the following tutorials."
      ],
      "metadata": {
        "id": "yZce4wCj2Ndj"
      }
    },
    {
      "cell_type": "code",
      "source": [
        "from torch.nn import Linear, ReLU"
      ],
      "metadata": {
        "id": "fcBqS0oP3nVl"
      },
      "execution_count": null,
      "outputs": []
    },
    {
      "cell_type": "markdown",
      "source": [
        "Both of these are part of the [torch.nn](https://docs.pytorch.org/docs/stable/nn.html) package, from which they can be imported. Thus, often, it is more practical to import the whole `nn` module."
      ],
      "metadata": {
        "id": "uT26cu3M3tYD"
      }
    },
    {
      "cell_type": "code",
      "source": [
        "import torch.nn as nn"
      ],
      "metadata": {
        "id": "ROfcR4YC34lM"
      },
      "execution_count": null,
      "outputs": []
    },
    {
      "cell_type": "markdown",
      "source": [
        "We will also need the optimiser package in order to train our network, alongside some functions from the utilities package to aid the preprocesisng of our data."
      ],
      "metadata": {
        "id": "AF8gBq2Ox-Zo"
      }
    },
    {
      "cell_type": "code",
      "source": [
        "import torch.optim as optim\n",
        "from torch.utils.data import TensorDataset, DataLoader"
      ],
      "metadata": {
        "id": "P8Yc1mTbyGP0"
      },
      "execution_count": null,
      "outputs": []
    },
    {
      "cell_type": "markdown",
      "source": [
        "In addition, we need to import some utils, that will help us later with the visualisation and transformation of the dataset."
      ],
      "metadata": {
        "id": "aEDw_Lkg4BSx"
      }
    },
    {
      "cell_type": "code",
      "source": [
        "!pip install torchinfo"
      ],
      "metadata": {
        "colab": {
          "base_uri": "https://localhost:8080/"
        },
        "id": "oT8gSDjuAAfd",
        "outputId": "fcac82e0-4a80-4108-e3de-5f4c2c2ca381"
      },
      "execution_count": null,
      "outputs": [
        {
          "output_type": "stream",
          "name": "stdout",
          "text": [
            "Collecting torchinfo\n",
            "  Downloading torchinfo-1.8.0-py3-none-any.whl.metadata (21 kB)\n",
            "Downloading torchinfo-1.8.0-py3-none-any.whl (23 kB)\n",
            "Installing collected packages: torchinfo\n",
            "Successfully installed torchinfo-1.8.0\n"
          ]
        }
      ]
    },
    {
      "cell_type": "code",
      "source": [
        "import torch.nn.functional as F\n",
        "import matplotlib.pyplot as plt\n",
        "from torchinfo import summary"
      ],
      "metadata": {
        "id": "VKTMV6vo4Byl"
      },
      "execution_count": null,
      "outputs": []
    },
    {
      "cell_type": "markdown",
      "source": [
        "## Loading Datasets from Pytorch\n",
        "\n",
        "Besides the modules to build our neural networks, Pytorch library also contains a set of [standard datasets](https://docs.pytorch.org/vision/stable/datasets.html). The fact that those datasets are inside Pytorch is handy and can save us a lot of time when learning how to create our first neural network.\n",
        "\n",
        "Therefore, let's import the [MNIST](https://en.wikipedia.org/wiki/MNIST_database) dataset. MNIST is a popular dataset on the computer vision community that contains a large number of binary images of handwritten digits. Once loaded, Pytorch allows us to easily split the dataset into the commonly used train and test data splits."
      ],
      "metadata": {
        "id": "WZKXE07Q4iTb"
      }
    },
    {
      "cell_type": "code",
      "source": [
        "from torchvision import datasets, transforms\n",
        "\n",
        "# Load MNIST dataset\n",
        "transform = transforms.ToTensor()  # keeps shape and scales to [0,1]\n",
        "train_dataset = datasets.MNIST(root='./data', train=True, download=True, transform=transform)\n",
        "test_dataset = datasets.MNIST(root='./data', train=False, download=True, transform=transform)\n",
        "\n",
        "# Convert to numpy arrays for inspection and visualization\n",
        "X_train = train_dataset.data.numpy()\n",
        "y_train = train_dataset.targets.numpy()\n",
        "X_test = test_dataset.data.numpy()\n",
        "y_test = test_dataset.targets.numpy()"
      ],
      "metadata": {
        "id": "5iZJFhhP4yI6",
        "colab": {
          "base_uri": "https://localhost:8080/"
        },
        "outputId": "512ffc8b-ec89-4af8-fd93-7664cfd4e613"
      },
      "execution_count": null,
      "outputs": [
        {
          "output_type": "stream",
          "name": "stderr",
          "text": [
            "100%|██████████| 9.91M/9.91M [00:00<00:00, 52.5MB/s]\n",
            "100%|██████████| 28.9k/28.9k [00:00<00:00, 1.78MB/s]\n",
            "100%|██████████| 1.65M/1.65M [00:00<00:00, 12.9MB/s]\n",
            "100%|██████████| 4.54k/4.54k [00:00<00:00, 6.35MB/s]\n"
          ]
        }
      ]
    },
    {
      "cell_type": "markdown",
      "source": [
        "We can now look into the shape of the imported data and visualise some examples:"
      ],
      "metadata": {
        "id": "iDC1hpUj5ioI"
      }
    },
    {
      "cell_type": "code",
      "source": [
        "# Print dataset info\n",
        "print('Image shape: {0}'.format(X_train.shape[1:]))\n",
        "print('Total number of training samples: {0}'.format(X_train.shape[0]))\n",
        "print('Total number of test samples: {0}'.format(X_test.shape[0]))\n",
        "\n",
        "# Visualization: show N x N grid of images\n",
        "N = 5\n",
        "start_val = 0  # starting index\n",
        "fig, axes = plt.subplots(N, N, figsize=(8, 8))\n",
        "items = list(range(0, 10))\n",
        "\n",
        "for row in range(N):\n",
        "    for col in range(N):\n",
        "        idx = start_val + row + N * col\n",
        "        axes[row, col].imshow(X_train[idx], cmap='gray')\n",
        "        fig.subplots_adjust(hspace=0.5)\n",
        "        y_target = int(y_train[idx])\n",
        "        target = str(items[y_target])\n",
        "        axes[row, col].set_title(target)\n",
        "        axes[row, col].set_xticks([])\n",
        "        axes[row, col].set_yticks([])\n",
        "\n",
        "plt.show()"
      ],
      "metadata": {
        "colab": {
          "base_uri": "https://localhost:8080/",
          "height": 727
        },
        "id": "qH7Puaeb5iOo",
        "outputId": "6bcce6c4-52c9-41c3-e793-751c6d78a2d7"
      },
      "execution_count": null,
      "outputs": [
        {
          "output_type": "stream",
          "name": "stdout",
          "text": [
            "Image shape: (28, 28)\n",
            "Total number of training samples: 60000\n",
            "Total number of test samples: 10000\n"
          ]
        },
        {
          "output_type": "display_data",
          "data": {
            "text/plain": [
              "<Figure size 800x800 with 25 Axes>"
            ],
            "image/png": "[encoded data removed]"
          },
          "metadata": {}
        }
      ]
    },
    {
      "cell_type": "markdown",
      "source": [
        "We have 60000 training samples and 10000 test samples, where each image has a shape of 28×28 pixels. Visualising the data before deploying any algorithm is always a good idea: it is a quick sanity check that can prevent avoidable mistakes."
      ],
      "metadata": {
        "id": "9gwMVzWn5s2C"
      }
    },
    {
      "cell_type": "markdown",
      "source": [
        "## Preprocessing Pytorch Datasets\n",
        "\n",
        "In this first example, we train a simple model to classify the digits on MNIST dataset.\n",
        "\n",
        "As will be studied in the lectures, convolutional layers are usually employed to classify images. However, for the time being, we use only `Linear` layers. Thus, we have to reshape the images into a 1D array to have a single dimension, and define an architecture that could be used in any 1D data, *e.g.*, time series. We will see on following weeks that when using Convolutional Neural Networks (CNNs) we must define a 3D shape for images (depth, width, height). CNNs usually have higher performance compared to models with only `Linear` layers when applied to 2D data.\n",
        "\n",
        "Let's transform the 2D images into 1D arrays."
      ],
      "metadata": {
        "id": "R8KVIpw153gO"
      }
    },
    {
      "cell_type": "code",
      "source": [
        "X_train_flatten = X_train.reshape(X_train.shape[0], -1)\n",
        "X_test_flatten = X_test.reshape(X_test.shape[0], -1)\n",
        "\n",
        "print('New X_train shape: {0}'.format(X_train_flatten.shape))"
      ],
      "metadata": {
        "colab": {
          "base_uri": "https://localhost:8080/"
        },
        "id": "HS-GSwOs59s6",
        "outputId": "11c31a10-7313-4777-bcd9-1051be9d8d5a"
      },
      "execution_count": null,
      "outputs": [
        {
          "output_type": "stream",
          "name": "stdout",
          "text": [
            "New X_train shape: (60000, 784)\n"
          ]
        }
      ]
    },
    {
      "cell_type": "markdown",
      "source": [
        "A standard practise is to normalise the dataset to the range $[0, 1]$."
      ],
      "metadata": {
        "id": "2T23hRbk6MW4"
      }
    },
    {
      "cell_type": "code",
      "source": [
        "X_train_flatten = X_train_flatten.astype('float32')\n",
        "X_test_flatten = X_test_flatten.astype('float32')\n",
        "X_train_flatten /= 255\n",
        "X_test_flatten /= 255"
      ],
      "metadata": {
        "id": "wy_dQQmN6M9l"
      },
      "execution_count": null,
      "outputs": []
    },
    {
      "cell_type": "markdown",
      "source": [
        "We train a classifier in a supervised manner, and therefore, we need to process the labels so that our pipeline can use them. The `y_train` and `y_test` labels indicate the numerical values belonging to the `X_train` and `X_test` images.\n",
        "\n",
        "We use a Categorical CrossEntropy as the loss function, which accepts class label indices in Pytorch."
      ],
      "metadata": {
        "id": "4oI8dUmj6d6z"
      }
    },
    {
      "cell_type": "code",
      "source": [
        "# Assuming y_train and y_test are NumPy arrays\n",
        "y_train_tensor = torch.from_numpy(y_train).long()\n",
        "y_test_tensor = torch.from_numpy(y_test).long()"
      ],
      "metadata": {
        "id": "EaL4aUri6ez8"
      },
      "execution_count": null,
      "outputs": []
    },
    {
      "cell_type": "markdown",
      "source": [
        "After this, we group the training data inputs and labels using the `DataLoader` function to feed it to our network."
      ],
      "metadata": {
        "id": "TwBDhkLvzdMR"
      }
    },
    {
      "cell_type": "code",
      "source": [
        "# Convert data to PyTorch tensors\n",
        "X_train_tensor = torch.from_numpy(X_train_flatten).float()\n",
        "y_train_tensor = torch.from_numpy(y_train).long()\n",
        "X_test_tensor = torch.from_numpy(X_test_flatten).float()\n",
        "y_test_tensor = torch.from_numpy(y_test).long()\n",
        "\n",
        "# Create dataset and dataloader\n",
        "train_dataset = TensorDataset(X_train_tensor, y_train_tensor)\n",
        "train_loader = DataLoader(train_dataset, batch_size=32, shuffle=True)\n",
        "test_dataset = TensorDataset(X_test_tensor, y_test_tensor)\n",
        "test_loader = DataLoader(test_dataset, batch_size=32, shuffle=False)"
      ],
      "metadata": {
        "id": "DZaAGW82zfmV"
      },
      "execution_count": null,
      "outputs": []
    },
    {
      "cell_type": "markdown",
      "source": [
        "## Model Architecture\n",
        "\n",
        "\n",
        "Defining a model architecture is a critical step when trying to solve a machine learning problem. In this tutorial, we will understand how models can be built into Pytorch.\n",
        "\n",
        "First, we need to declare a `Sequential` module. As mentioned, the `Sequential` module allows us to combine neural network layers linearly. We create a model by passing a list of layer instances to the `Sequential` module:"
      ],
      "metadata": {
        "id": "FnzIIszA7Sg8"
      }
    },
    {
      "cell_type": "code",
      "source": [
        "model = nn.Sequential(\n",
        "    nn.Linear(784, 10),\n",
        "    nn.Softmax(dim=1)\n",
        ")"
      ],
      "metadata": {
        "id": "scPiuVzt7WcC"
      },
      "execution_count": null,
      "outputs": []
    },
    {
      "cell_type": "markdown",
      "source": [
        "- `dim=1` means you're applying softmax across the class scores for each sample in a batch (i.e., across columns).\n",
        "\n",
        "- If you're using nn.CrossEntropyLoss, do not include nn.Softmax — it's already built into the loss."
      ],
      "metadata": {
        "id": "kFJhEAe78aJY"
      }
    },
    {
      "cell_type": "markdown",
      "source": [
        "We now have a simple model ready to go!\n",
        "\n",
        "Note that the model needs to know the shape of the input data. For this reason, the first layer in the Sequential model needs information about the input shape (the following layers can automatically infer the shape, and you do not need to specify it). In our case, we tell the network that the input size is 784. The 784 size vector comes from the flatten operation of our images (28 x 28). If we were using directly images, the input shape would have been (1, 28, 28), which corresponds to the (depth, width, height) of each digit image. The formatting (depth, width, height) is called `channels_first`, which is used by default in Pytorch. This is the opposite of Keras, which uses `channels_last` by default (height, width, channels), but PyTorch does not provide a data_format option — you'll need to manually transpose if converting between formats.\n",
        "\n",
        "Let's print the model shape output by passing in a dummy input and viewing the shape of the output:"
      ],
      "metadata": {
        "id": "DoDxRrCx8vkd"
      }
    },
    {
      "cell_type": "code",
      "source": [
        "# Create dummy input with the same shape as your training data\n",
        "# For flattened MNIST (28x28), input shape is [batch_size, 784]\n",
        "dummy_input = torch.randn(1, 784)  # batch size of 1\n",
        "\n",
        "# Pass it through the model\n",
        "output = model(dummy_input)\n",
        "\n",
        "# Print the shape of the output\n",
        "print(\"Output shape:\", output.shape)\n"
      ],
      "metadata": {
        "colab": {
          "base_uri": "https://localhost:8080/"
        },
        "id": "9gQ_ER7b-U0E",
        "outputId": "1e9fa5cd-0e4a-4205-8f4b-287c783ede08"
      },
      "execution_count": null,
      "outputs": [
        {
          "output_type": "stream",
          "name": "stdout",
          "text": [
            "Output shape: torch.Size([1, 10])\n"
          ]
        }
      ]
    },
    {
      "cell_type": "markdown",
      "source": [
        "We define the output of our layer to be 10, that corresponds to the 10 different classes in MNIST (one, two, three, ..., nine.). Pytorch automatically handles the connections between layers, so there is no need for us to manually set up anything within the architecture.\n",
        "\n",
        "To get a summary of the model architecture (similar to Keras' .summary()), you can use the torchinfo package:"
      ],
      "metadata": {
        "id": "oYYI6ntq_RBL"
      }
    },
    {
      "cell_type": "code",
      "source": [
        "summary(model, input_size=(1, 784))"
      ],
      "metadata": {
        "colab": {
          "base_uri": "https://localhost:8080/"
        },
        "id": "td7v-QY2_aqO",
        "outputId": "164b2269-dc26-4ce5-e8b9-c9297d60f69d"
      },
      "execution_count": null,
      "outputs": [
        {
          "output_type": "execute_result",
          "data": {
            "text/plain": [
              "==========================================================================================\n",
              "Layer (type:depth-idx)                   Output Shape              Param #\n",
              "==========================================================================================\n",
              "Sequential                               [1, 10]                   --\n",
              "├─Linear: 1-1                            [1, 10]                   7,850\n",
              "├─Softmax: 1-2                           [1, 10]                   --\n",
              "==========================================================================================\n",
              "Total params: 7,850\n",
              "Trainable params: 7,850\n",
              "Non-trainable params: 0\n",
              "Total mult-adds (Units.MEGABYTES): 0.01\n",
              "==========================================================================================\n",
              "Input size (MB): 0.00\n",
              "Forward/backward pass size (MB): 0.00\n",
              "Params size (MB): 0.03\n",
              "Estimated Total Size (MB): 0.03\n",
              "=========================================================================================="
            ]
          },
          "metadata": {},
          "execution_count": 17
        }
      ]
    },
    {
      "cell_type": "markdown",
      "source": [
        "In our example, the first row of the table has $784\\cdot 10+ 10=7850$ parameters, where the first term refers to the connections between input data and neurons,  and the second term to the output bias."
      ],
      "metadata": {
        "id": "cCPDKWPg_nV7"
      }
    },
    {
      "cell_type": "markdown",
      "source": [
        "## Training setup\n",
        "\n",
        "Before training our model, we need to configure the learning process. We must define three important parameters here:\n",
        "\n",
        "*   The loss function that the model will try to minimise.\n",
        "*   The optimiser used to minimise the loss function and update the weights of the network.\n",
        "*   The list of metrics you want the model to compute in every step.\n",
        "\n",
        "In our example, as we are doing classification, we will define the `categorical_crossentropy` as the loss function, and we will compute the accuracy metric. You can refer to Pytorch documentation to learn more about [losses](https://docs.pytorch.org/docs/stable/nn.html#loss-functions) or [optimisers](https://docs.pytorch.org/docs/stable/optim.html/). Many other parameters could be tuned, e.g., learning rate, decay factor, or weight normalisation. We will explore in more detail all of these parameters in the following tutorials. For now, we will use the default values for them."
      ],
      "metadata": {
        "id": "P3P2i4c2_ogp"
      }
    },
    {
      "cell_type": "code",
      "source": [
        "criterion = nn.CrossEntropyLoss()\n",
        "optimizer = optim.Adam(model.parameters())\n",
        "\n",
        "# Metrics: PyTorch does not provide built-in metrics like Keras.\n",
        "# You compute metrics manually during training or validation, e.g., accuracy:\n",
        "def accuracy(output, target):\n",
        "    preds = output.argmax(dim=1)\n",
        "    correct = (preds == target).sum().item()\n",
        "    return correct / target.size(0)"
      ],
      "metadata": {
        "id": "2lqnEKukxzbw"
      },
      "execution_count": null,
      "outputs": []
    },
    {
      "cell_type": "markdown",
      "source": [
        "## Training\n",
        "\n",
        "To train the model, we must define our training loop. We have to define the number of total epochs the model is going to train. Within the loop, we set the model into training mode, perform a forward pass, compute the loss, perform a backwards pass and log any metrics we desire. We are finally ready to start the learning of our classifier!"
      ],
      "metadata": {
        "id": "aT2fldgnydAO"
      }
    },
    {
      "cell_type": "code",
      "source": [
        "# Training loop\n",
        "epochs = 10\n",
        "train_losses = []\n",
        "train_accuracies = []\n",
        "\n",
        "for epoch in range(epochs):\n",
        "    model.train()                             # Set model to training mode\n",
        "    running_loss = 0.0\n",
        "    correct = 0\n",
        "    total = 0\n",
        "\n",
        "    for inputs, labels in train_loader:\n",
        "        optimizer.zero_grad()                 # Clear gradients\n",
        "        outputs = model(inputs)               # Forward pass\n",
        "        loss = criterion(outputs, labels)     # Compute loss\n",
        "        loss.backward()                       # Backward pass\n",
        "        optimizer.step()                      # Update weights\n",
        "\n",
        "        # Metrics\n",
        "        running_loss += loss.item()\n",
        "        _, predicted = outputs.max(1)\n",
        "        correct += (predicted == labels).sum().item()\n",
        "        total += labels.size(0)\n",
        "\n",
        "    accuracy = correct / total\n",
        "    print(f\"Epoch [{epoch+1}/{epochs}] - Loss: {running_loss:.4f} - Accuracy: {accuracy:.4f}\")\n",
        "\n",
        "    train_losses.append(running_loss)\n",
        "    train_accuracies.append(accuracy)\n"
      ],
      "metadata": {
        "colab": {
          "base_uri": "https://localhost:8080/"
        },
        "id": "3hJPzQ-Kyo1u",
        "outputId": "d764c9c5-ffee-4428-879a-b5b8568024d1"
      },
      "execution_count": null,
      "outputs": [
        {
          "output_type": "stream",
          "name": "stdout",
          "text": [
            "Epoch [1/10] - Loss: 3096.0478 - Accuracy: 0.8677\n",
            "Epoch [2/10] - Loss: 2942.8925 - Accuracy: 0.9118\n",
            "Epoch [3/10] - Loss: 2918.9252 - Accuracy: 0.9192\n",
            "Epoch [4/10] - Loss: 2906.4053 - Accuracy: 0.9235\n",
            "Epoch [5/10] - Loss: 2898.1083 - Accuracy: 0.9265\n",
            "Epoch [6/10] - Loss: 2892.3729 - Accuracy: 0.9287\n",
            "Epoch [7/10] - Loss: 2887.6722 - Accuracy: 0.9304\n",
            "Epoch [8/10] - Loss: 2883.8690 - Accuracy: 0.9321\n",
            "Epoch [9/10] - Loss: 2880.9243 - Accuracy: 0.9330\n",
            "Epoch [10/10] - Loss: 2878.2215 - Accuracy: 0.9339\n"
          ]
        }
      ]
    },
    {
      "cell_type": "markdown",
      "source": [
        "Great, we've trained our first model in PyTorch!\n",
        "\n",
        "Now imagine we don’t know how many epochs are needed for the model to converge. In Keras, we’d use callbacks, like `EarlyStopping` or `ModelCheckpoint`. PyTorch doesn’t have built-in callbacks, but we can achieve the same functionality manually or with helper libraries like `torchmetrics`, `pytorch_lightning`, or custom logic inside our training loop.\n",
        "\n",
        "Most importantly, to track training progress, we can store the accuracy and loss values at each epoch and plot them manually."
      ],
      "metadata": {
        "id": "38Opx8HL1lGl"
      }
    },
    {
      "cell_type": "code",
      "source": [
        "fig, axes = plt.subplots(2, 1, figsize=(8, 6))\n",
        "\n",
        "axes[0].plot(train_accuracies, label='Accuracy')\n",
        "axes[0].set_title('Model Accuracy')\n",
        "axes[0].set_ylabel('Accuracy')\n",
        "axes[0].set_xlabel('Epoch')\n",
        "axes[0].legend()\n",
        "\n",
        "axes[1].plot(train_losses, 'g', label='Loss')\n",
        "axes[1].set_title('Model Loss')\n",
        "axes[1].set_ylabel('Cross Entropy Loss')\n",
        "axes[1].set_xlabel('Epoch')\n",
        "axes[1].legend()\n",
        "\n",
        "fig.subplots_adjust(hspace=0.5)\n",
        "plt.tight_layout()\n",
        "plt.show()"
      ],
      "metadata": {
        "colab": {
          "base_uri": "https://localhost:8080/",
          "height": 607
        },
        "id": "qJScdvx91m1Z",
        "outputId": "a0bb1af8-c067-4bb4-ccb8-5a476e6e6c7a"
      },
      "execution_count": null,
      "outputs": [
        {
          "output_type": "display_data",
          "data": {
            "text/plain": [
              "<Figure size 800x600 with 2 Axes>"
            ],
            "image/png": "[encoded data removed]"
          },
          "metadata": {}
        }
      ]
    },
    {
      "cell_type": "markdown",
      "source": [
        "## Evaluating Model\n",
        "\n",
        "Finally, we check the metrics of our model on the test data by using the method `.evaluate()`:"
      ],
      "metadata": {
        "id": "TwhDTV6trXdX"
      }
    },
    {
      "cell_type": "code",
      "source": [
        "# Evaluation in PyTorch\n",
        "model.eval()  # Set model to evaluation mode\n",
        "\n",
        "correct = 0\n",
        "total = 0\n",
        "loss_total = 0.0\n",
        "\n",
        "with torch.no_grad():\n",
        "    for xb, yb in test_loader:\n",
        "        outputs = model(xb)\n",
        "        loss = criterion(outputs, yb)\n",
        "        loss_total += loss.item()\n",
        "        predicted = torch.argmax(outputs, dim=1)\n",
        "        correct += (predicted == yb).sum().item()\n",
        "        total += yb.size(0)\n",
        "\n",
        "avg_loss = loss_total / len(test_loader)\n",
        "accuracy = correct / total\n",
        "\n",
        "print('Test loss:', avg_loss)\n",
        "print('Test accuracy:', accuracy)\n"
      ],
      "metadata": {
        "colab": {
          "base_uri": "https://localhost:8080/"
        },
        "id": "27Uc2sxNrYWh",
        "outputId": "ab6249d1-4cbc-4d28-f7c2-7a2b92a100c5"
      },
      "execution_count": null,
      "outputs": [
        {
          "output_type": "stream",
          "name": "stdout",
          "text": [
            "Test loss: 1.5353766763553072\n",
            "Test accuracy: 0.9317\n"
          ]
        }
      ]
    },
    {
      "cell_type": "markdown",
      "source": [
        "# Training a Simple Multi-layer Perceptron\n",
        "\n",
        "Earlier, we showed how to create a simple network that maps directly from $784$ (input size) to $10$ (output size). In the following sections, we explain the basics of creating more complex models, models that combine different sequential layers to perform more accurate classifications.\n",
        "\n",
        "Hence, we start by defining a network with an extra layer and study how that affects the final test accuracy."
      ],
      "metadata": {
        "id": "yMxVH7S611lB"
      }
    },
    {
      "cell_type": "code",
      "source": [
        "from torchsummary import summary  # You may need to install this via pip"
      ],
      "metadata": {
        "id": "aF1fvkIY3t6W"
      },
      "execution_count": null,
      "outputs": []
    },
    {
      "cell_type": "code",
      "source": [
        "# Define the model\n",
        "class SimpleMLP(nn.Module):\n",
        "    def __init__(self):\n",
        "        super().__init__()\n",
        "        self.model = nn.Sequential(\n",
        "            nn.Linear(784, 100),\n",
        "            nn.ReLU(),\n",
        "            nn.Linear(100, 10),\n",
        "            nn.Softmax(dim=1)  # Only needed for inference, not for training with CrossEntropyLoss\n",
        "        )\n",
        "\n",
        "    def forward(self, x):\n",
        "        return self.model(x)\n",
        "\n",
        "# Instantiate model\n",
        "model2 = SimpleMLP()\n",
        "\n",
        "# Print model summary (input size is (batch_size, 784))\n",
        "summary(model2, input_size=(784,))\n"
      ],
      "metadata": {
        "colab": {
          "base_uri": "https://localhost:8080/"
        },
        "id": "MqAvkPLy3eGZ",
        "outputId": "e27faf13-a7a9-4838-ccab-5b640496e168"
      },
      "execution_count": null,
      "outputs": [
        {
          "output_type": "stream",
          "name": "stdout",
          "text": [
            "----------------------------------------------------------------\n",
            "        Layer (type)               Output Shape         Param #\n",
            "================================================================\n",
            "            Linear-1                  [-1, 100]          78,500\n",
            "              ReLU-2                  [-1, 100]               0\n",
            "            Linear-3                   [-1, 10]           1,010\n",
            "           Softmax-4                   [-1, 10]               0\n",
            "================================================================\n",
            "Total params: 79,510\n",
            "Trainable params: 79,510\n",
            "Non-trainable params: 0\n",
            "----------------------------------------------------------------\n",
            "Input size (MB): 0.00\n",
            "Forward/backward pass size (MB): 0.00\n",
            "Params size (MB): 0.30\n",
            "Estimated Total Size (MB): 0.31\n",
            "----------------------------------------------------------------\n"
          ]
        }
      ]
    },
    {
      "cell_type": "markdown",
      "source": [
        "We have increased the number of parameters from 7850 to 79510 by adding this layer. Remember that the number of units given to the last layer defines the dimensionality of the output space, thus, we need the last layer to have the same size that the total number of classes to classify.\n",
        "\n",
        "Note that we use ReLU (Rectified Linear Unit) activation function after the first dense layer. ReLU is a common activation function, we will give more details about it in future tutorials. However, for now, you can learn more about ReLU [here](https://docs.pytorch.org/docs/stable/generated/torch.nn.ReLU.html).\n",
        "\n",
        "We train our new model and visualise the model curves:"
      ],
      "metadata": {
        "id": "mKZ4GhlD4aJP"
      }
    },
    {
      "cell_type": "code",
      "source": [
        "class SimpleMLP(nn.Module):\n",
        "    def __init__(self):\n",
        "        super().__init__()\n",
        "        self.net = nn.Sequential(\n",
        "            nn.Linear(784, 100),\n",
        "            nn.ReLU(),\n",
        "            nn.Linear(100, 10)\n",
        "        )\n",
        "\n",
        "    def forward(self, x):\n",
        "        return self.net(x)\n",
        "\n",
        "# Instantiate model, loss, optimizer\n",
        "model2 = SimpleMLP()\n",
        "criterion = nn.CrossEntropyLoss()\n",
        "optimizer = optim.Adam(model2.parameters(), lr=0.001)\n",
        "\n",
        "# Prepare DataLoader\n",
        "train_dataset = torch.utils.data.TensorDataset(torch.tensor(X_train_flatten, dtype=torch.float32),\n",
        "                                               torch.tensor(y_train, dtype=torch.long))  # use class labels directly\n",
        "train_loader = torch.utils.data.DataLoader(train_dataset, batch_size=32, shuffle=True)\n",
        "\n",
        "# Train model and record history\n",
        "epochs = 10\n",
        "train_loss_history = []\n",
        "train_acc_history = []\n",
        "\n",
        "for epoch in range(epochs):\n",
        "    model2.train()\n",
        "    running_loss = 0.0\n",
        "    correct = 0\n",
        "    total = 0\n",
        "\n",
        "    for xb, yb in train_loader:\n",
        "        optimizer.zero_grad()\n",
        "        outputs = model2(xb)\n",
        "        loss = criterion(outputs, yb)\n",
        "        loss.backward()\n",
        "        optimizer.step()\n",
        "\n",
        "        running_loss += loss.item()\n",
        "        _, predicted = torch.max(outputs, 1)\n",
        "        correct += (predicted == yb).sum().item()\n",
        "        total += yb.size(0)\n",
        "\n",
        "    avg_loss = running_loss / len(train_loader)\n",
        "    accuracy = correct / total\n",
        "\n",
        "    train_loss_history.append(avg_loss)\n",
        "    train_acc_history.append(accuracy)\n",
        "\n",
        "    print(f\"Epoch {epoch+1}: Loss={avg_loss:.4f}, Accuracy={accuracy:.4f}\")\n",
        "\n",
        "# Plotting accuracy and loss\n",
        "fig, axes = plt.subplots(2, 1, figsize=(8, 6))\n",
        "\n",
        "axes[0].plot(train_acc_history)\n",
        "axes[0].set_title('Model Accuracy')\n",
        "axes[0].set_ylabel('Accuracy')\n",
        "axes[0].set_xlabel('Epoch')\n",
        "\n",
        "axes[1].plot(train_loss_history, 'g')\n",
        "axes[1].set_title('Model Loss')\n",
        "axes[1].set_ylabel('Cross Entropy Loss')\n",
        "axes[1].set_xlabel('Epoch')\n",
        "\n",
        "fig.subplots_adjust(hspace=0.5)\n",
        "plt.tight_layout()\n",
        "plt.show()\n"
      ],
      "metadata": {
        "colab": {
          "base_uri": "https://localhost:8080/",
          "height": 781
        },
        "id": "RERyzGn04aaD",
        "outputId": "8ca35936-e128-4d5e-d79c-29c9a65a86ed"
      },
      "execution_count": null,
      "outputs": [
        {
          "output_type": "stream",
          "name": "stdout",
          "text": [
            "Epoch 1: Loss=0.3065, Accuracy=0.9150\n",
            "Epoch 2: Loss=0.1367, Accuracy=0.9600\n",
            "Epoch 3: Loss=0.0958, Accuracy=0.9720\n",
            "Epoch 4: Loss=0.0726, Accuracy=0.9779\n",
            "Epoch 5: Loss=0.0573, Accuracy=0.9827\n",
            "Epoch 6: Loss=0.0465, Accuracy=0.9854\n",
            "Epoch 7: Loss=0.0390, Accuracy=0.9875\n",
            "Epoch 8: Loss=0.0316, Accuracy=0.9904\n",
            "Epoch 9: Loss=0.0272, Accuracy=0.9917\n",
            "Epoch 10: Loss=0.0219, Accuracy=0.9934\n"
          ]
        },
        {
          "output_type": "display_data",
          "data": {
            "text/plain": [
              "<Figure size 800x600 with 2 Axes>"
            ],
            "image/png": "[encoded data removed]"
          },
          "metadata": {}
        }
      ]
    },
    {
      "cell_type": "markdown",
      "source": [
        "We have now trained two different models. Let's plot their metrics to see how that extra layer affected the results in the network performance."
      ],
      "metadata": {
        "id": "6ygCHm0z6MCX"
      }
    },
    {
      "cell_type": "code",
      "source": [
        "def evaluate_model(model, X_test, y_test):\n",
        "    model.eval()\n",
        "    with torch.no_grad():\n",
        "        inputs = torch.tensor(X_test, dtype=torch.float32)\n",
        "        labels = torch.tensor(y_test, dtype=torch.long)\n",
        "        outputs = model(inputs)\n",
        "        loss = nn.CrossEntropyLoss()(outputs, labels)\n",
        "        _, predicted = torch.max(outputs, 1)\n",
        "        accuracy = (predicted == labels).float().mean().item()\n",
        "    return loss.item(), accuracy\n",
        "\n",
        "# Evaluate both models\n",
        "loss1, acc1 = evaluate_model(model, X_test_flatten, y_test)\n",
        "loss2, acc2 = evaluate_model(model2, X_test_flatten, y_test)\n",
        "\n",
        "# Print results\n",
        "print(\"Old model:\")\n",
        "print(f\"Test loss: {loss1:.4f}\")\n",
        "print(f\"Test accuracy: {acc1:.4f}\")\n",
        "\n",
        "print(\"New model:\")\n",
        "print(f\"Test loss: {loss2:.4f}\")\n",
        "print(f\"Test accuracy: {acc2:.4f}\")\n"
      ],
      "metadata": {
        "colab": {
          "base_uri": "https://localhost:8080/"
        },
        "id": "e72saKDq6Mo6",
        "outputId": "8e6d487f-05a9-40c7-8e43-b76b610a9c42"
      },
      "execution_count": null,
      "outputs": [
        {
          "output_type": "stream",
          "name": "stdout",
          "text": [
            "Old model:\n",
            "Test loss: 1.5354\n",
            "Test accuracy: 0.9317\n",
            "New model:\n",
            "Test loss: 0.0834\n",
            "Test accuracy: 0.9765\n"
          ]
        }
      ]
    },
    {
      "cell_type": "markdown",
      "source": [
        "We have improved accuracy results on the test set. Even though there is still margin for parameter tuning, the reached accuracy is already pretty high. We could add more layers or change the number of neurons in each layer to see if we could boost even further the results.\n",
        "\n",
        "Let's now explore some techniques that will prove useful in the following tutorials."
      ],
      "metadata": {
        "id": "DHGDpohE7wUZ"
      }
    },
    {
      "cell_type": "markdown",
      "source": [
        "## Saving/Loading Model\n",
        "\n",
        "Some networks require long training times (hours, days or even weeks), hence, it is essential to know how to save the models for using them in future times without the need of retraining them every time.\n",
        "\n",
        "We can save and load the trained model in different ways.\n",
        "\n",
        "The first way is to save everything into a single PTH file, which will contain:\n",
        "\n",
        "*   the architecture of the model, allowing to re-create the model\n",
        "*   the weights of the model\n",
        "*   the training configuration (loss, optimiser)\n",
        "*   the state of the optimiser, which permits us to resume training exactly where you left it off.\n"
      ],
      "metadata": {
        "id": "7TmsIz7y7w-L"
      }
    },
    {
      "cell_type": "code",
      "source": [
        "# Save model (architecture + weights + optimizer state if needed)\n",
        "torch.save({\n",
        "    'model_state_dict': model.state_dict(),\n",
        "    'optimizer_state_dict': optimizer.state_dict(),  # Optional: only needed if resuming training\n",
        "}, 'my_model.pth')\n"
      ],
      "metadata": {
        "id": "pKRXlD3-8pdQ"
      },
      "execution_count": null,
      "outputs": []
    },
    {
      "cell_type": "markdown",
      "source": [
        "Once we have a model defined, we can load the weights with the method `load_state_dict(torch.load(file_path))`.:"
      ],
      "metadata": {
        "id": "jrD1SkUB9Slc"
      }
    },
    {
      "cell_type": "code",
      "source": [
        "model.load_state_dict(torch.load('my_model_weights.pth'))\n",
        "model.eval()"
      ],
      "metadata": {
        "id": "yn_otPHg9TIl"
      },
      "execution_count": null,
      "outputs": []
    },
    {
      "cell_type": "markdown",
      "source": [
        "### Download Models / Save to Google Drive\n",
        "One of the problems you may face is that the models, or any other file, saved in Colab will not be there permanently. In some cases, you will want to store your model weights in a more lasting way. There are two ways to save your model. First, you can download any file to your computer. To do so, you can use the left-side menu in Colab, and follow the instructions on the image below.\n",
        "\n",
        "![Screenshot](https://i.ibb.co/yS5JgPd/Screenshot-2021-01-18-at-15-46-04.png)\n",
        "\n",
        "If you want to use any file you previously downloaded, you will need to manually upload your file using the Colab interface."
      ],
      "metadata": {
        "id": "sA3uNFg-9jL8"
      }
    },
    {
      "cell_type": "markdown",
      "source": [
        "Another way to save your weights is by using your Google Drive storage. This can be more convenient, as you can quickly load the models again from your Drive without having to upload manually the file. To do so, you can click on the folder with the Drive symbol highlighted in the following image.\n",
        "\n",
        "![Screenshot](https://i.ibb.co/PFGw6QR/Screenshot-2021-01-18-at-16-16-44.png)"
      ],
      "metadata": {
        "id": "IPm6OPs_9kwf"
      }
    },
    {
      "cell_type": "markdown",
      "source": [
        "After clicking on the Drive folder, the code below will appear in your Colab notebook. You need to run it and follow the instructions to have access to your Google Drive folder."
      ],
      "metadata": {
        "id": "bp4KLYsT9pFD"
      }
    },
    {
      "cell_type": "code",
      "source": [
        "from google.colab import drive\n",
        "drive.mount('/content/drive')"
      ],
      "metadata": {
        "id": "V_4xqw4w9qQ6"
      },
      "execution_count": null,
      "outputs": []
    },
    {
      "cell_type": "markdown",
      "source": [
        "After the `drive` folder is mounted, you will see a new folder on your files section in Colab as in the following image.\n",
        "\n",
        "![Screenshot](https://i.ibb.co/NSM1RFK/Screenshot-2021-01-18-at-16-17-48.png)\n",
        "\n",
        "Now, you can save the model to your personal Google Drive and also load any model from it."
      ],
      "metadata": {
        "id": "gm-NlDds9rts"
      }
    },
    {
      "cell_type": "code",
      "source": [
        "torch.save(model.state_dict(), '/content/drive/MyDrive/my_model_weights.pth')\n",
        "model.load_state_dict(torch.load('/content/drive/MyDrive/my_model_weights.pth'))"
      ],
      "metadata": {
        "id": "DP_PDSp991XQ"
      },
      "execution_count": null,
      "outputs": []
    },
    {
      "cell_type": "markdown",
      "source": [
        "Using your Google Drive storage is quite convenient. However, keep in mind that any file saved in your drive will also count towards your Google Drive storage limit."
      ],
      "metadata": {
        "id": "r04kxEQr-HWC"
      }
    },
    {
      "cell_type": "markdown",
      "source": [
        "## Obtaining an Output of an Intermediate Layer\n",
        "\n",
        "Sometimes we need to check how features of intermediate layers look like. This can be used for extracting features, but also for debugging purposes. That is why we need to see how we can obtain information about any layer within the architecture.\n",
        "\n",
        "The easiest way is to design a new model that will have as final output our desired layer. We first define the model:"
      ],
      "metadata": {
        "id": "pHVmA4fy-H1W"
      }
    },
    {
      "cell_type": "code",
      "source": [
        "import torch\n",
        "import torch.nn as nn\n",
        "import torch.nn.functional as F\n",
        "\n",
        "class CustomMLP(nn.Module):\n",
        "    def __init__(self):\n",
        "        super().__init__()\n",
        "        self.first_dense = nn.Linear(784, 64)\n",
        "        self.second_dense = nn.Linear(64, 128)\n",
        "        self.final_dense = nn.Linear(128, 10)\n",
        "\n",
        "    def forward(self, x):\n",
        "        x1 = F.relu(self.first_dense(x))   # \"first_dense\" output\n",
        "        x2 = F.relu(self.second_dense(x1)) # \"second_dense\" output\n",
        "        x3 = F.softmax(self.final_dense(x2), dim=1)  # \"final_dense\" output\n",
        "        return x1, x2, x3  # return all intermediate activations\n"
      ],
      "metadata": {
        "id": "9rXqr72p-PbO"
      },
      "execution_count": null,
      "outputs": []
    },
    {
      "cell_type": "code",
      "source": [
        "model = CustomMLP()\n",
        "model.eval()\n",
        "\n",
        "# Example input\n",
        "sample_input = torch.randn(1, 784)  # single flattened image\n",
        "first_out, second_out, final_out = model(sample_input)\n",
        "\n",
        "print(\"First Dense Output Shape:\", first_out.shape)\n",
        "print(\"Second Dense Output Shape:\", second_out.shape)\n",
        "print(\"Final Output (Softmax):\", final_out)\n"
      ],
      "metadata": {
        "colab": {
          "base_uri": "https://localhost:8080/"
        },
        "id": "eujYhHji-TS3",
        "outputId": "74f3e7d4-f0a6-412a-a1d4-dcfe912b5602"
      },
      "execution_count": null,
      "outputs": [
        {
          "output_type": "stream",
          "name": "stdout",
          "text": [
            "First Dense Output Shape: torch.Size([1, 64])\n",
            "Second Dense Output Shape: torch.Size([1, 128])\n",
            "Final Output (Softmax): tensor([[0.1011, 0.0855, 0.1042, 0.1059, 0.0950, 0.1068, 0.0891, 0.1059, 0.1060,\n",
            "         0.1006]], grad_fn=<SoftmaxBackward0>)\n"
          ]
        }
      ]
    },
    {
      "cell_type": "markdown",
      "source": [
        "Now, we specify the name of the layer in which we are interested in obtaining the output. In our example, it is the second dense layer (\"second_dense\"), for which we extract the output from the reconstruction of the network."
      ],
      "metadata": {
        "id": "q-A91C0S-hSd"
      }
    },
    {
      "cell_type": "code",
      "source": [
        "def get_intermediate_output(model, x, layer_name=\"second_dense\"):\n",
        "    x1 = F.relu(model.first_dense(x))\n",
        "    if layer_name == \"first_dense\":\n",
        "        return x1\n",
        "    x2 = F.relu(model.second_dense(x1))\n",
        "    if layer_name == \"second_dense\":\n",
        "        return x2\n",
        "    x3 = F.softmax(model.final_dense(x2), dim=1)\n",
        "    return x3"
      ],
      "metadata": {
        "id": "XRgWpdHA-W-l"
      },
      "execution_count": null,
      "outputs": []
    },
    {
      "cell_type": "markdown",
      "source": [
        "## Freezing Layers\n",
        "\n",
        "Pytorch also allows us to freeze some of the weights of specific layers. Freezing layers means that we can exclude them from training. A typical example where this proved useful is when fine-tuning a model. Remember that when fine-tuning a model, some layers are fixed, and normally only the last ones are trained to finetune the task-specific layers (e.g. classifiers) to the new task.\n",
        "\n",
        "To freeze layers we can set the requires grad argument (Boolean) of the layer to be non-trainable or trainable:"
      ],
      "metadata": {
        "id": "8NJiWZRX_gGq"
      }
    },
    {
      "cell_type": "code",
      "source": [
        "# Define a frozen dense layer (Linear layer in PyTorch)\n",
        "frozen_layer = nn.Linear(in_features=64, out_features=32)\n",
        "\n",
        "# Freeze it: disable gradient computation\n",
        "for param in frozen_layer.parameters():\n",
        "    param.requires_grad = False"
      ],
      "metadata": {
        "id": "OSsyMZiz_trO"
      },
      "execution_count": null,
      "outputs": []
    },
    {
      "cell_type": "code",
      "source": [
        "import torch\n",
        "import torch.nn as nn\n",
        "from torchsummary import summary\n",
        "import copy\n",
        "\n",
        "# Instantiate model\n",
        "model = nn.Sequential(\n",
        "    nn.Linear(784, 10),\n",
        "    nn.Softmax(dim=1)\n",
        ")\n",
        "\n",
        "print(\"Summary before freezing:\")\n",
        "summary(model, input_size=(784,))\n",
        "\n",
        "# Freeze all parameters\n",
        "for param in model.parameters():\n",
        "    param.requires_grad = False\n",
        "\n",
        "print(\"\\nSummary after freezing:\")\n",
        "summary(model, input_size=(784,))\n",
        "\n",
        "# Additionally print trainable parameters count and flag for each param\n",
        "def print_trainable_params(model):\n",
        "    print(\"\\nParameter trainability:\")\n",
        "    for name, param in model.named_parameters():\n",
        "        print(f\"{name:30} | trainable: {param.requires_grad}\")\n",
        "\n",
        "print_trainable_params(model)\n"
      ],
      "metadata": {
        "colab": {
          "base_uri": "https://localhost:8080/"
        },
        "id": "fM2_70tFA-OR",
        "outputId": "fb316510-6a08-43e0-9198-6908096b484f"
      },
      "execution_count": null,
      "outputs": [
        {
          "output_type": "stream",
          "name": "stdout",
          "text": [
            "Summary before freezing:\n",
            "----------------------------------------------------------------\n",
            "        Layer (type)               Output Shape         Param #\n",
            "================================================================\n",
            "            Linear-1                   [-1, 10]           7,850\n",
            "           Softmax-2                   [-1, 10]               0\n",
            "================================================================\n",
            "Total params: 7,850\n",
            "Trainable params: 7,850\n",
            "Non-trainable params: 0\n",
            "----------------------------------------------------------------\n",
            "Input size (MB): 0.00\n",
            "Forward/backward pass size (MB): 0.00\n",
            "Params size (MB): 0.03\n",
            "Estimated Total Size (MB): 0.03\n",
            "----------------------------------------------------------------\n",
            "\n",
            "Summary after freezing:\n",
            "----------------------------------------------------------------\n",
            "        Layer (type)               Output Shape         Param #\n",
            "================================================================\n",
            "            Linear-1                   [-1, 10]           7,850\n",
            "           Softmax-2                   [-1, 10]               0\n",
            "================================================================\n",
            "Total params: 7,850\n",
            "Trainable params: 0\n",
            "Non-trainable params: 7,850\n",
            "----------------------------------------------------------------\n",
            "Input size (MB): 0.00\n",
            "Forward/backward pass size (MB): 0.00\n",
            "Params size (MB): 0.03\n",
            "Estimated Total Size (MB): 0.03\n",
            "----------------------------------------------------------------\n",
            "\n",
            "Parameter trainability:\n",
            "0.weight                       | trainable: False\n",
            "0.bias                         | trainable: False\n"
          ]
        }
      ]
    },
    {
      "cell_type": "markdown",
      "source": [
        "We see in the model description that the frozen model has 0 trainable parameters, while it has 7,850 non-trainable parameters. This fact indicates that we successfully froze that model and the training does not affect it. We can verify this using the results after training both networks, where the trainable model improves accuracy while the frozen one does not change at all."
      ],
      "metadata": {
        "id": "IfaHHFdqBCne"
      }
    }
  ]
}